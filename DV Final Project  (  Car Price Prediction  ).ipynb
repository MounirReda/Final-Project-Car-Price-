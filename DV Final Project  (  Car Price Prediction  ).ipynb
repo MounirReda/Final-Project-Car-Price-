{
 "cells": [
  {
   "cell_type": "markdown",
   "id": "0caeb244",
   "metadata": {},
   "source": [
    "# Importing the libraries "
   ]
  },
  {
   "cell_type": "markdown",
   "id": "3aebe95e",
   "metadata": {},
   "source": [
    "<h2 style=\"color: teal; font-family: 'Arial', sans-serif; text-align: center; border-bottom: 2px solid red; padding-bottom: 5px; background-color: #f8f8f8; margin: 10px; border-radius: 8px; box-shadow: 0 2px 4px rgba(0, 0, 0, 0.1);\">import the libraries that we will use in our project</h2><h2 \n"
   ]
  },
  {
   "cell_type": "code",
   "execution_count": 1,
   "id": "8fad618b",
   "metadata": {},
   "outputs": [],
   "source": [
    "import numpy as np \n",
    "import openpyxl\n",
    "import pandas as pd \n",
    "import matplotlib as mpl\n",
    "import matplotlib.pyplot as plt\n",
    "from sklearn.linear_model import LinearRegression \n",
    "from sklearn.tree import DecisionTreeRegressor \n",
    "from sklearn.ensemble import  RandomForestRegressor \n",
    "from sklearn.ensemble import  GradientBoostingRegressor \n",
    "from xgboost import XGBRegressor \n",
    "from sklearn.svm import SVR\n",
    "from sklearn.metrics import r2_score,mean_squared_error  \n",
    "import warnings \n",
    "warnings.filterwarnings('ignore')\n",
    "import seaborn as sns \n",
    "import os\n",
    "from sklearn.decomposition import PCA\n",
    "from sklearn.preprocessing import LabelEncoder\n",
    "from scipy import stats\n",
    "from mlxtend.preprocessing import minmax_scaling\n",
    "from sklearn.model_selection import train_test_split \n",
    "\n"
   ]
  },
  {
   "cell_type": "markdown",
   "id": "98bc0475",
   "metadata": {},
   "source": [
    "<h2 style=\"color: teal; font-family: 'Arial', sans-serif; text-align: center; border-bottom: 2px solid red; padding-bottom: 5px; background-color: #f8f8f8; margin: 10px; border-radius: 8px; box-shadow: 0 2px 4px rgba(0, 0, 0, 0.1);\">import the car price prediction dataset using pandas</h2>\n"
   ]
  },
  {
   "cell_type": "code",
   "execution_count": 2,
   "id": "398435a5",
   "metadata": {},
   "outputs": [
    {
     "data": {
      "text/html": [
       "<div>\n",
       "<style scoped>\n",
       "    .dataframe tbody tr th:only-of-type {\n",
       "        vertical-align: middle;\n",
       "    }\n",
       "\n",
       "    .dataframe tbody tr th {\n",
       "        vertical-align: top;\n",
       "    }\n",
       "\n",
       "    .dataframe thead th {\n",
       "        text-align: right;\n",
       "    }\n",
       "</style>\n",
       "<table border=\"1\" class=\"dataframe\">\n",
       "  <thead>\n",
       "    <tr style=\"text-align: right;\">\n",
       "      <th></th>\n",
       "      <th>ID</th>\n",
       "      <th>Price</th>\n",
       "      <th>Levy</th>\n",
       "      <th>Manufacturer</th>\n",
       "      <th>Model</th>\n",
       "      <th>Prod. year</th>\n",
       "      <th>Category</th>\n",
       "      <th>Leather interior</th>\n",
       "      <th>Fuel type</th>\n",
       "      <th>Engine volume</th>\n",
       "      <th>Mileage</th>\n",
       "      <th>Cylinders</th>\n",
       "      <th>Gear box type</th>\n",
       "      <th>Drive wheels</th>\n",
       "      <th>Doors</th>\n",
       "      <th>Wheel</th>\n",
       "      <th>Color</th>\n",
       "      <th>Airbags</th>\n",
       "    </tr>\n",
       "  </thead>\n",
       "  <tbody>\n",
       "    <tr>\n",
       "      <th>0</th>\n",
       "      <td>45654403</td>\n",
       "      <td>13328</td>\n",
       "      <td>1399</td>\n",
       "      <td>LEXUS</td>\n",
       "      <td>RX 450</td>\n",
       "      <td>2010</td>\n",
       "      <td>Jeep</td>\n",
       "      <td>Yes</td>\n",
       "      <td>Hybrid</td>\n",
       "      <td>3.5</td>\n",
       "      <td>186005 km</td>\n",
       "      <td>6.0</td>\n",
       "      <td>Automatic</td>\n",
       "      <td>4x4</td>\n",
       "      <td>04-May</td>\n",
       "      <td>Left wheel</td>\n",
       "      <td>Silver</td>\n",
       "      <td>12</td>\n",
       "    </tr>\n",
       "    <tr>\n",
       "      <th>1</th>\n",
       "      <td>44731507</td>\n",
       "      <td>16621</td>\n",
       "      <td>1018</td>\n",
       "      <td>CHEVROLET</td>\n",
       "      <td>Equinox</td>\n",
       "      <td>2011</td>\n",
       "      <td>Jeep</td>\n",
       "      <td>No</td>\n",
       "      <td>Petrol</td>\n",
       "      <td>3</td>\n",
       "      <td>192000 km</td>\n",
       "      <td>6.0</td>\n",
       "      <td>Tiptronic</td>\n",
       "      <td>4x4</td>\n",
       "      <td>04-May</td>\n",
       "      <td>Left wheel</td>\n",
       "      <td>Black</td>\n",
       "      <td>8</td>\n",
       "    </tr>\n",
       "    <tr>\n",
       "      <th>2</th>\n",
       "      <td>45774419</td>\n",
       "      <td>8467</td>\n",
       "      <td>-</td>\n",
       "      <td>HONDA</td>\n",
       "      <td>FIT</td>\n",
       "      <td>2006</td>\n",
       "      <td>Hatchback</td>\n",
       "      <td>No</td>\n",
       "      <td>Petrol</td>\n",
       "      <td>1.3</td>\n",
       "      <td>200000 km</td>\n",
       "      <td>4.0</td>\n",
       "      <td>Variator</td>\n",
       "      <td>Front</td>\n",
       "      <td>04-May</td>\n",
       "      <td>Right-hand drive</td>\n",
       "      <td>Black</td>\n",
       "      <td>2</td>\n",
       "    </tr>\n",
       "    <tr>\n",
       "      <th>3</th>\n",
       "      <td>45769185</td>\n",
       "      <td>3607</td>\n",
       "      <td>862</td>\n",
       "      <td>FORD</td>\n",
       "      <td>Escape</td>\n",
       "      <td>2011</td>\n",
       "      <td>Jeep</td>\n",
       "      <td>Yes</td>\n",
       "      <td>Hybrid</td>\n",
       "      <td>2.5</td>\n",
       "      <td>168966 km</td>\n",
       "      <td>4.0</td>\n",
       "      <td>Automatic</td>\n",
       "      <td>4x4</td>\n",
       "      <td>04-May</td>\n",
       "      <td>Left wheel</td>\n",
       "      <td>White</td>\n",
       "      <td>0</td>\n",
       "    </tr>\n",
       "    <tr>\n",
       "      <th>4</th>\n",
       "      <td>45809263</td>\n",
       "      <td>11726</td>\n",
       "      <td>446</td>\n",
       "      <td>HONDA</td>\n",
       "      <td>FIT</td>\n",
       "      <td>2014</td>\n",
       "      <td>Hatchback</td>\n",
       "      <td>Yes</td>\n",
       "      <td>Petrol</td>\n",
       "      <td>1.3</td>\n",
       "      <td>91901 km</td>\n",
       "      <td>4.0</td>\n",
       "      <td>Automatic</td>\n",
       "      <td>Front</td>\n",
       "      <td>04-May</td>\n",
       "      <td>Left wheel</td>\n",
       "      <td>Silver</td>\n",
       "      <td>4</td>\n",
       "    </tr>\n",
       "  </tbody>\n",
       "</table>\n",
       "</div>"
      ],
      "text/plain": [
       "         ID  Price  Levy Manufacturer    Model  Prod. year   Category  \\\n",
       "0  45654403  13328  1399        LEXUS   RX 450        2010       Jeep   \n",
       "1  44731507  16621  1018    CHEVROLET  Equinox        2011       Jeep   \n",
       "2  45774419   8467     -        HONDA      FIT        2006  Hatchback   \n",
       "3  45769185   3607   862         FORD   Escape        2011       Jeep   \n",
       "4  45809263  11726   446        HONDA      FIT        2014  Hatchback   \n",
       "\n",
       "  Leather interior Fuel type Engine volume    Mileage  Cylinders  \\\n",
       "0              Yes    Hybrid           3.5  186005 km        6.0   \n",
       "1               No    Petrol             3  192000 km        6.0   \n",
       "2               No    Petrol           1.3  200000 km        4.0   \n",
       "3              Yes    Hybrid           2.5  168966 km        4.0   \n",
       "4              Yes    Petrol           1.3   91901 km        4.0   \n",
       "\n",
       "  Gear box type Drive wheels   Doors             Wheel   Color  Airbags  \n",
       "0     Automatic          4x4  04-May        Left wheel  Silver       12  \n",
       "1     Tiptronic          4x4  04-May        Left wheel   Black        8  \n",
       "2      Variator        Front  04-May  Right-hand drive   Black        2  \n",
       "3     Automatic          4x4  04-May        Left wheel   White        0  \n",
       "4     Automatic        Front  04-May        Left wheel  Silver        4  "
      ]
     },
     "execution_count": 2,
     "metadata": {},
     "output_type": "execute_result"
    }
   ],
   "source": [
    "car_df = pd.read_csv('E:\\\\collage\\\\car_price_prediction.csv')\n",
    "car_df.head()"
   ]
  },
  {
   "cell_type": "markdown",
   "id": "49180843",
   "metadata": {},
   "source": [
    "<h2 style=\"color: teal; font-family: 'Arial', sans-serif; text-align: center; border-bottom: 2px solid red; padding-bottom: 5px; background-color: #f8f8f8; margin: 10px; border-radius: 8px; box-shadow: 0 2px 4px rgba(0, 0, 0, 0.1);\">Data Cleaning</h2>\n"
   ]
  },
  {
   "cell_type": "markdown",
   "id": "6b37a616",
   "metadata": {},
   "source": [
    "<h2 style=\"color: teal; font-family: 'Arial', sans-serif; text-align: center; border-bottom: 2px solid red; padding-bottom: 5px; background-color: #f8f8f8; margin: 10px; border-radius: 8px; box-shadow: 0 2px 4px rgba(0, 0, 0, 0.1);\">check duplication</h2> \n",
    "\n",
    "\n",
    "***To start the clean of data you should remove the duplicated data.To see if there is duplication in the data we will use duplicated() method***"
   ]
  },
  {
   "cell_type": "code",
   "execution_count": 3,
   "id": "bf92355f",
   "metadata": {},
   "outputs": [
    {
     "data": {
      "text/plain": [
       "0        False\n",
       "1        False\n",
       "2        False\n",
       "3        False\n",
       "4        False\n",
       "         ...  \n",
       "19232    False\n",
       "19233    False\n",
       "19234    False\n",
       "19235    False\n",
       "19236    False\n",
       "Length: 19237, dtype: bool"
      ]
     },
     "execution_count": 3,
     "metadata": {},
     "output_type": "execute_result"
    }
   ],
   "source": [
    "car_df.duplicated()"
   ]
  },
  {
   "cell_type": "markdown",
   "id": "c8a5c2c4",
   "metadata": {},
   "source": [
    "***we can't see all data and understand if there duplication or not so we can count and get the number of duplicated data***\n",
    "\n"
   ]
  },
  {
   "cell_type": "code",
   "execution_count": 4,
   "id": "931fa57b",
   "metadata": {},
   "outputs": [
    {
     "data": {
      "text/plain": [
       "313"
      ]
     },
     "execution_count": 4,
     "metadata": {},
     "output_type": "execute_result"
    }
   ],
   "source": [
    "car_df.duplicated().sum()"
   ]
  },
  {
   "cell_type": "markdown",
   "id": "85190b22",
   "metadata": {},
   "source": [
    "***we foud alot of data dduplicated so we should remove it using drop_duplicates()***"
   ]
  },
  {
   "cell_type": "code",
   "execution_count": 5,
   "id": "8baa1af1",
   "metadata": {},
   "outputs": [],
   "source": [
    "#inplce you found duplicata drop data\n",
    "car_df.drop_duplicates(inplace=True)"
   ]
  },
  {
   "cell_type": "code",
   "execution_count": 6,
   "id": "7da6f769",
   "metadata": {},
   "outputs": [
    {
     "data": {
      "text/plain": [
       "0"
      ]
     },
     "execution_count": 6,
     "metadata": {},
     "output_type": "execute_result"
    }
   ],
   "source": [
    "#check after drop\n",
    "car_df.duplicated().sum()"
   ]
  },
  {
   "cell_type": "code",
   "execution_count": 7,
   "id": "6260aa32",
   "metadata": {},
   "outputs": [
    {
     "data": {
      "text/plain": [
       "(18924, 18)"
      ]
     },
     "execution_count": 7,
     "metadata": {},
     "output_type": "execute_result"
    }
   ],
   "source": [
    "#see number of cloumn and rows after drop\n",
    "car_df.shape"
   ]
  },
  {
   "cell_type": "markdown",
   "id": "d52c1ab4",
   "metadata": {},
   "source": [
    "<h2 style=\"color: teal; font-family: 'Arial', sans-serif; text-align: center; border-bottom: 2px solid red; padding-bottom: 5px; background-color: #f8f8f8; margin: 10px; border-radius: 8px; box-shadow: 0 2px 4px rgba(0, 0, 0, 0.1);\">deals with Missing Values</h2> \n",
    "\n",
    "\n",
    "***How many missing data points do we have?***"
   ]
  },
  {
   "cell_type": "code",
   "execution_count": 8,
   "id": "b2caddca",
   "metadata": {},
   "outputs": [
    {
     "data": {
      "text/plain": [
       "ID                  0\n",
       "Price               0\n",
       "Levy                0\n",
       "Manufacturer        0\n",
       "Model               0\n",
       "Prod. year          0\n",
       "Category            0\n",
       "Leather interior    0\n",
       "Fuel type           0\n",
       "Engine volume       0\n",
       "Mileage             0\n",
       "Cylinders           0\n",
       "Gear box type       0\n",
       "Drive wheels        0\n",
       "Doors               0\n",
       "Wheel               0\n",
       "Color               0\n",
       "Airbags             0\n",
       "dtype: int64"
      ]
     },
     "execution_count": 8,
     "metadata": {},
     "output_type": "execute_result"
    }
   ],
   "source": [
    "# get the number of missing data points per column\n",
    "missing_values = car_df.isnull().sum()\n",
    "# look at the # of missing points\n",
    "missing_values"
   ]
  },
  {
   "cell_type": "markdown",
   "id": "ea1f89a9",
   "metadata": {},
   "source": [
    "***there is no missing value .to make sure we can see the what percentage of the values in our dataset were missing to giveus a better sense of the scale of this problem:***"
   ]
  },
  {
   "cell_type": "code",
   "execution_count": 9,
   "id": "611b2c81",
   "metadata": {},
   "outputs": [
    {
     "name": "stdout",
     "output_type": "stream",
     "text": [
      "0 %\n"
     ]
    }
   ],
   "source": [
    "total_cells = np.product(car_df.shape)\n",
    "total_missing = missing_values.sum()\n",
    "percent_missing = (total_missing/total_cells) * 100\n",
    "print(round(percent_missing),\"%\")"
   ]
  },
  {
   "cell_type": "markdown",
   "id": "9b424b97",
   "metadata": {},
   "source": [
    "<h2 style=\"color: teal; font-family: 'Arial', sans-serif; text-align: center; border-bottom: 2px solid red; padding-bottom: 5px; background-color: #f8f8f8; margin: 10px; border-radius: 8px; box-shadow: 0 2px 4px rgba(0, 0, 0, 0.1);\">If there is a missing value what should we do?\n",
    "</h2> \n",
    "\n",
    "\n",
    "***1-we can remove any rows or columns that contain missing values using dropna() method \n",
    "   2-we can fill in the missing values\n",
    "   a)we can specify what we want the NaN values to be replaced with. \n",
    "   we are going to replace all the NaN values with 0. fill_missing = car_df.fillna(0)\n",
    "b) replace missing values with whatever value comes directly after it in the same column.\n",
    " fill_missing = car_df.fillna(method='bfill', axis=0\n",
    "c)replace missing values with whatever value comes directly after it in the same column., **fill_missing = car_df.fillna(method='bfill', axis=0)***"
   ]
  },
  {
   "cell_type": "code",
   "execution_count": 10,
   "id": "3a2223a5",
   "metadata": {},
   "outputs": [
    {
     "data": {
      "text/html": [
       "<div>\n",
       "<style scoped>\n",
       "    .dataframe tbody tr th:only-of-type {\n",
       "        vertical-align: middle;\n",
       "    }\n",
       "\n",
       "    .dataframe tbody tr th {\n",
       "        vertical-align: top;\n",
       "    }\n",
       "\n",
       "    .dataframe thead th {\n",
       "        text-align: right;\n",
       "    }\n",
       "</style>\n",
       "<table border=\"1\" class=\"dataframe\">\n",
       "  <thead>\n",
       "    <tr style=\"text-align: right;\">\n",
       "      <th></th>\n",
       "      <th>Price</th>\n",
       "      <th>Levy</th>\n",
       "      <th>Manufacturer</th>\n",
       "      <th>Model</th>\n",
       "      <th>Prod. year</th>\n",
       "      <th>Category</th>\n",
       "      <th>Leather interior</th>\n",
       "      <th>Fuel type</th>\n",
       "      <th>Engine volume</th>\n",
       "      <th>Mileage</th>\n",
       "      <th>Cylinders</th>\n",
       "      <th>Gear box type</th>\n",
       "      <th>Drive wheels</th>\n",
       "      <th>Wheel</th>\n",
       "      <th>Color</th>\n",
       "      <th>Airbags</th>\n",
       "    </tr>\n",
       "  </thead>\n",
       "  <tbody>\n",
       "    <tr>\n",
       "      <th>0</th>\n",
       "      <td>13328</td>\n",
       "      <td>1399</td>\n",
       "      <td>LEXUS</td>\n",
       "      <td>RX 450</td>\n",
       "      <td>2010</td>\n",
       "      <td>Jeep</td>\n",
       "      <td>Yes</td>\n",
       "      <td>Hybrid</td>\n",
       "      <td>3.5</td>\n",
       "      <td>186005 km</td>\n",
       "      <td>6.0</td>\n",
       "      <td>Automatic</td>\n",
       "      <td>4x4</td>\n",
       "      <td>Left wheel</td>\n",
       "      <td>Silver</td>\n",
       "      <td>12</td>\n",
       "    </tr>\n",
       "    <tr>\n",
       "      <th>1</th>\n",
       "      <td>16621</td>\n",
       "      <td>1018</td>\n",
       "      <td>CHEVROLET</td>\n",
       "      <td>Equinox</td>\n",
       "      <td>2011</td>\n",
       "      <td>Jeep</td>\n",
       "      <td>No</td>\n",
       "      <td>Petrol</td>\n",
       "      <td>3</td>\n",
       "      <td>192000 km</td>\n",
       "      <td>6.0</td>\n",
       "      <td>Tiptronic</td>\n",
       "      <td>4x4</td>\n",
       "      <td>Left wheel</td>\n",
       "      <td>Black</td>\n",
       "      <td>8</td>\n",
       "    </tr>\n",
       "    <tr>\n",
       "      <th>2</th>\n",
       "      <td>8467</td>\n",
       "      <td>-</td>\n",
       "      <td>HONDA</td>\n",
       "      <td>FIT</td>\n",
       "      <td>2006</td>\n",
       "      <td>Hatchback</td>\n",
       "      <td>No</td>\n",
       "      <td>Petrol</td>\n",
       "      <td>1.3</td>\n",
       "      <td>200000 km</td>\n",
       "      <td>4.0</td>\n",
       "      <td>Variator</td>\n",
       "      <td>Front</td>\n",
       "      <td>Right-hand drive</td>\n",
       "      <td>Black</td>\n",
       "      <td>2</td>\n",
       "    </tr>\n",
       "    <tr>\n",
       "      <th>3</th>\n",
       "      <td>3607</td>\n",
       "      <td>862</td>\n",
       "      <td>FORD</td>\n",
       "      <td>Escape</td>\n",
       "      <td>2011</td>\n",
       "      <td>Jeep</td>\n",
       "      <td>Yes</td>\n",
       "      <td>Hybrid</td>\n",
       "      <td>2.5</td>\n",
       "      <td>168966 km</td>\n",
       "      <td>4.0</td>\n",
       "      <td>Automatic</td>\n",
       "      <td>4x4</td>\n",
       "      <td>Left wheel</td>\n",
       "      <td>White</td>\n",
       "      <td>0</td>\n",
       "    </tr>\n",
       "    <tr>\n",
       "      <th>4</th>\n",
       "      <td>11726</td>\n",
       "      <td>446</td>\n",
       "      <td>HONDA</td>\n",
       "      <td>FIT</td>\n",
       "      <td>2014</td>\n",
       "      <td>Hatchback</td>\n",
       "      <td>Yes</td>\n",
       "      <td>Petrol</td>\n",
       "      <td>1.3</td>\n",
       "      <td>91901 km</td>\n",
       "      <td>4.0</td>\n",
       "      <td>Automatic</td>\n",
       "      <td>Front</td>\n",
       "      <td>Left wheel</td>\n",
       "      <td>Silver</td>\n",
       "      <td>4</td>\n",
       "    </tr>\n",
       "  </tbody>\n",
       "</table>\n",
       "</div>"
      ],
      "text/plain": [
       "   Price  Levy Manufacturer    Model  Prod. year   Category Leather interior  \\\n",
       "0  13328  1399        LEXUS   RX 450        2010       Jeep              Yes   \n",
       "1  16621  1018    CHEVROLET  Equinox        2011       Jeep               No   \n",
       "2   8467     -        HONDA      FIT        2006  Hatchback               No   \n",
       "3   3607   862         FORD   Escape        2011       Jeep              Yes   \n",
       "4  11726   446        HONDA      FIT        2014  Hatchback              Yes   \n",
       "\n",
       "  Fuel type Engine volume    Mileage  Cylinders Gear box type Drive wheels  \\\n",
       "0    Hybrid           3.5  186005 km        6.0     Automatic          4x4   \n",
       "1    Petrol             3  192000 km        6.0     Tiptronic          4x4   \n",
       "2    Petrol           1.3  200000 km        4.0      Variator        Front   \n",
       "3    Hybrid           2.5  168966 km        4.0     Automatic          4x4   \n",
       "4    Petrol           1.3   91901 km        4.0     Automatic        Front   \n",
       "\n",
       "              Wheel   Color  Airbags  \n",
       "0        Left wheel  Silver       12  \n",
       "1        Left wheel   Black        8  \n",
       "2  Right-hand drive   Black        2  \n",
       "3        Left wheel   White        0  \n",
       "4        Left wheel  Silver        4  "
      ]
     },
     "execution_count": 10,
     "metadata": {},
     "output_type": "execute_result"
    }
   ],
   "source": [
    "car_df=car_df.drop(['ID','Doors'],axis=1)\n",
    "car_df.head()"
   ]
  },
  {
   "cell_type": "code",
   "execution_count": 11,
   "id": "97fa3600",
   "metadata": {},
   "outputs": [],
   "source": [
    "import datetime\n",
    "dtime=datetime.datetime.now()\n",
    "car_df['Age']=dtime.year-car_df['Prod. year']"
   ]
  },
  {
   "cell_type": "code",
   "execution_count": 12,
   "id": "c915c1d5",
   "metadata": {},
   "outputs": [],
   "source": [
    "car_df[\"Mileage\"]=car_df[\"Mileage\"].str.replace('km','')\n"
   ]
  },
  {
   "cell_type": "code",
   "execution_count": 13,
   "id": "4c48337a",
   "metadata": {},
   "outputs": [
    {
     "data": {
      "text/plain": [
       "array(['3.5', '3', '1.3', '2.5', '2', '1.8', '2.4', '4', '1.6', '3.3',\n",
       "       '2.0 Turbo', '2.2 Turbo', '4.7', '1.5', '4.4', '3.0 Turbo',\n",
       "       '1.4 Turbo', '3.6', '2.3', '1.5 Turbo', '1.6 Turbo', '2.2',\n",
       "       '2.3 Turbo', '1.4', '5.5', '2.8 Turbo', '3.2', '3.8', '4.6', '1.2',\n",
       "       '5', '1.7', '2.9', '0.5', '1.8 Turbo', '2.4 Turbo', '3.5 Turbo',\n",
       "       '1.9', '2.7', '4.8', '5.3', '0.4', '2.8', '3.2 Turbo', '1.1',\n",
       "       '2.1', '0.7', '5.4', '1.3 Turbo', '3.7', '1', '2.5 Turbo', '2.6',\n",
       "       '1.9 Turbo', '4.4 Turbo', '4.7 Turbo', '0.8', '0.2 Turbo', '5.7',\n",
       "       '4.8 Turbo', '4.6 Turbo', '6.7', '6.2', '1.2 Turbo', '3.4',\n",
       "       '1.7 Turbo', '6.3 Turbo', '2.7 Turbo', '4.3', '4.2', '2.9 Turbo',\n",
       "       '0', '4.0 Turbo', '20', '3.6 Turbo', '0.3', '3.7 Turbo', '5.9',\n",
       "       '5.5 Turbo', '0.2', '2.1 Turbo', '5.6', '6', '0.7 Turbo',\n",
       "       '0.6 Turbo', '6.8', '4.5', '0.6', '7.3', '0.1', '1.0 Turbo', '6.3',\n",
       "       '4.5 Turbo', '0.8 Turbo', '4.2 Turbo', '3.1', '5.0 Turbo', '6.4',\n",
       "       '3.9', '5.7 Turbo', '0.9', '0.4 Turbo', '5.4 Turbo', '0.3 Turbo',\n",
       "       '5.2', '5.8', '1.1 Turbo'], dtype=object)"
      ]
     },
     "execution_count": 13,
     "metadata": {},
     "output_type": "execute_result"
    }
   ],
   "source": [
    "car_df['Engine volume'].unique()"
   ]
  },
  {
   "cell_type": "code",
   "execution_count": 14,
   "id": "75648294",
   "metadata": {},
   "outputs": [
    {
     "data": {
      "text/plain": [
       "0        3.5\n",
       "1        3.0\n",
       "2        1.3\n",
       "3        2.5\n",
       "4        1.3\n",
       "        ... \n",
       "19232    2.0\n",
       "19233    2.4\n",
       "19234    2.0\n",
       "19235    2.0\n",
       "19236    2.4\n",
       "Name: Engine volume, Length: 18924, dtype: float64"
      ]
     },
     "execution_count": 14,
     "metadata": {},
     "output_type": "execute_result"
    }
   ],
   "source": [
    "car_df['Engine volume']=car_df['Engine volume'].str.replace('Turbo','')\n",
    "car_df['Engine volume']=car_df['Engine volume'].astype(float)\n",
    "car_df['Engine volume']"
   ]
  },
  {
   "cell_type": "code",
   "execution_count": 15,
   "id": "72cbfc3d",
   "metadata": {},
   "outputs": [
    {
     "name": "stdout",
     "output_type": "stream",
     "text": [
      "Total Outliers in Price are :1055-5.57%\n",
      "Total Outliers in Prod. year are :1492-7.88%\n",
      "Total Outliers in Engine volume are :1358-7.18%\n",
      "Total Outliers in Cylinders are :4765-25.18%\n",
      "Total Outliers in Airbags are :0-0.0%\n",
      "Total Outliers in Age are :1777-9.39%\n"
     ]
    }
   ],
   "source": [
    "car_df_numeric=car_df.select_dtypes(exclude='object')\n",
    "for col in car_df_numeric:\n",
    "    q1=car_df[col].quantile(0.25)\n",
    "    q3=car_df[col].quantile(0.75)\n",
    "    iqr=q3-q1\n",
    "    low=q1-1.5*iqr\n",
    "    high=q3+1.5*iqr\n",
    "    outlier=((car_df_numeric[col]>high)|(car_df_numeric[col]<low)).sum()\n",
    "    total=car_df_numeric[col].shape[0]\n",
    "    print(f\"Total Outliers in {col} are :{outlier}-{round(100*(outlier)/total,2)}%\")\n",
    "    if outlier >0:\n",
    "        car_df=car_df.loc[(car_df[col]<=high) & (car_df[col]>=low)]"
   ]
  },
  {
   "cell_type": "code",
   "execution_count": 16,
   "id": "1671afd9",
   "metadata": {},
   "outputs": [
    {
     "data": {
      "text/html": [
       "<div>\n",
       "<style scoped>\n",
       "    .dataframe tbody tr th:only-of-type {\n",
       "        vertical-align: middle;\n",
       "    }\n",
       "\n",
       "    .dataframe tbody tr th {\n",
       "        vertical-align: top;\n",
       "    }\n",
       "\n",
       "    .dataframe thead th {\n",
       "        text-align: right;\n",
       "    }\n",
       "</style>\n",
       "<table border=\"1\" class=\"dataframe\">\n",
       "  <thead>\n",
       "    <tr style=\"text-align: right;\">\n",
       "      <th></th>\n",
       "      <th>Price</th>\n",
       "      <th>Levy</th>\n",
       "      <th>Manufacturer</th>\n",
       "      <th>Model</th>\n",
       "      <th>Prod. year</th>\n",
       "      <th>Category</th>\n",
       "      <th>Leather interior</th>\n",
       "      <th>Fuel type</th>\n",
       "      <th>Engine volume</th>\n",
       "      <th>Mileage</th>\n",
       "      <th>Cylinders</th>\n",
       "      <th>Gear box type</th>\n",
       "      <th>Drive wheels</th>\n",
       "      <th>Wheel</th>\n",
       "      <th>Color</th>\n",
       "      <th>Airbags</th>\n",
       "      <th>Age</th>\n",
       "    </tr>\n",
       "  </thead>\n",
       "  <tbody>\n",
       "    <tr>\n",
       "      <th>2</th>\n",
       "      <td>8467</td>\n",
       "      <td>0</td>\n",
       "      <td>HONDA</td>\n",
       "      <td>FIT</td>\n",
       "      <td>2006</td>\n",
       "      <td>Hatchback</td>\n",
       "      <td>No</td>\n",
       "      <td>Petrol</td>\n",
       "      <td>1.3</td>\n",
       "      <td>200000</td>\n",
       "      <td>4.0</td>\n",
       "      <td>Variator</td>\n",
       "      <td>Front</td>\n",
       "      <td>Right-hand drive</td>\n",
       "      <td>Black</td>\n",
       "      <td>2</td>\n",
       "      <td>17</td>\n",
       "    </tr>\n",
       "    <tr>\n",
       "      <th>3</th>\n",
       "      <td>3607</td>\n",
       "      <td>862</td>\n",
       "      <td>FORD</td>\n",
       "      <td>Escape</td>\n",
       "      <td>2011</td>\n",
       "      <td>Jeep</td>\n",
       "      <td>Yes</td>\n",
       "      <td>Hybrid</td>\n",
       "      <td>2.5</td>\n",
       "      <td>168966</td>\n",
       "      <td>4.0</td>\n",
       "      <td>Automatic</td>\n",
       "      <td>4x4</td>\n",
       "      <td>Left wheel</td>\n",
       "      <td>White</td>\n",
       "      <td>0</td>\n",
       "      <td>12</td>\n",
       "    </tr>\n",
       "    <tr>\n",
       "      <th>4</th>\n",
       "      <td>11726</td>\n",
       "      <td>446</td>\n",
       "      <td>HONDA</td>\n",
       "      <td>FIT</td>\n",
       "      <td>2014</td>\n",
       "      <td>Hatchback</td>\n",
       "      <td>Yes</td>\n",
       "      <td>Petrol</td>\n",
       "      <td>1.3</td>\n",
       "      <td>91901</td>\n",
       "      <td>4.0</td>\n",
       "      <td>Automatic</td>\n",
       "      <td>Front</td>\n",
       "      <td>Left wheel</td>\n",
       "      <td>Silver</td>\n",
       "      <td>4</td>\n",
       "      <td>9</td>\n",
       "    </tr>\n",
       "    <tr>\n",
       "      <th>5</th>\n",
       "      <td>39493</td>\n",
       "      <td>891</td>\n",
       "      <td>HYUNDAI</td>\n",
       "      <td>Santa FE</td>\n",
       "      <td>2016</td>\n",
       "      <td>Jeep</td>\n",
       "      <td>Yes</td>\n",
       "      <td>Diesel</td>\n",
       "      <td>2.0</td>\n",
       "      <td>160931</td>\n",
       "      <td>4.0</td>\n",
       "      <td>Automatic</td>\n",
       "      <td>Front</td>\n",
       "      <td>Left wheel</td>\n",
       "      <td>White</td>\n",
       "      <td>4</td>\n",
       "      <td>7</td>\n",
       "    </tr>\n",
       "    <tr>\n",
       "      <th>6</th>\n",
       "      <td>1803</td>\n",
       "      <td>761</td>\n",
       "      <td>TOYOTA</td>\n",
       "      <td>Prius</td>\n",
       "      <td>2010</td>\n",
       "      <td>Hatchback</td>\n",
       "      <td>Yes</td>\n",
       "      <td>Hybrid</td>\n",
       "      <td>1.8</td>\n",
       "      <td>258909</td>\n",
       "      <td>4.0</td>\n",
       "      <td>Automatic</td>\n",
       "      <td>Front</td>\n",
       "      <td>Left wheel</td>\n",
       "      <td>White</td>\n",
       "      <td>12</td>\n",
       "      <td>13</td>\n",
       "    </tr>\n",
       "    <tr>\n",
       "      <th>7</th>\n",
       "      <td>549</td>\n",
       "      <td>751</td>\n",
       "      <td>HYUNDAI</td>\n",
       "      <td>Sonata</td>\n",
       "      <td>2013</td>\n",
       "      <td>Sedan</td>\n",
       "      <td>Yes</td>\n",
       "      <td>Petrol</td>\n",
       "      <td>2.4</td>\n",
       "      <td>216118</td>\n",
       "      <td>4.0</td>\n",
       "      <td>Automatic</td>\n",
       "      <td>Front</td>\n",
       "      <td>Left wheel</td>\n",
       "      <td>Grey</td>\n",
       "      <td>12</td>\n",
       "      <td>10</td>\n",
       "    </tr>\n",
       "    <tr>\n",
       "      <th>8</th>\n",
       "      <td>1098</td>\n",
       "      <td>394</td>\n",
       "      <td>TOYOTA</td>\n",
       "      <td>Camry</td>\n",
       "      <td>2014</td>\n",
       "      <td>Sedan</td>\n",
       "      <td>Yes</td>\n",
       "      <td>Hybrid</td>\n",
       "      <td>2.5</td>\n",
       "      <td>398069</td>\n",
       "      <td>4.0</td>\n",
       "      <td>Automatic</td>\n",
       "      <td>Front</td>\n",
       "      <td>Left wheel</td>\n",
       "      <td>Black</td>\n",
       "      <td>12</td>\n",
       "      <td>9</td>\n",
       "    </tr>\n",
       "    <tr>\n",
       "      <th>15</th>\n",
       "      <td>549</td>\n",
       "      <td>1079</td>\n",
       "      <td>TOYOTA</td>\n",
       "      <td>CHR</td>\n",
       "      <td>2018</td>\n",
       "      <td>Jeep</td>\n",
       "      <td>Yes</td>\n",
       "      <td>Petrol</td>\n",
       "      <td>2.0</td>\n",
       "      <td>74146</td>\n",
       "      <td>4.0</td>\n",
       "      <td>Automatic</td>\n",
       "      <td>Front</td>\n",
       "      <td>Left wheel</td>\n",
       "      <td>White</td>\n",
       "      <td>12</td>\n",
       "      <td>5</td>\n",
       "    </tr>\n",
       "    <tr>\n",
       "      <th>16</th>\n",
       "      <td>7683</td>\n",
       "      <td>810</td>\n",
       "      <td>HYUNDAI</td>\n",
       "      <td>Elantra</td>\n",
       "      <td>2016</td>\n",
       "      <td>Sedan</td>\n",
       "      <td>Yes</td>\n",
       "      <td>Petrol</td>\n",
       "      <td>1.8</td>\n",
       "      <td>121840</td>\n",
       "      <td>4.0</td>\n",
       "      <td>Automatic</td>\n",
       "      <td>Front</td>\n",
       "      <td>Left wheel</td>\n",
       "      <td>Blue</td>\n",
       "      <td>12</td>\n",
       "      <td>7</td>\n",
       "    </tr>\n",
       "    <tr>\n",
       "      <th>17</th>\n",
       "      <td>28382</td>\n",
       "      <td>810</td>\n",
       "      <td>HYUNDAI</td>\n",
       "      <td>Elantra</td>\n",
       "      <td>2016</td>\n",
       "      <td>Sedan</td>\n",
       "      <td>Yes</td>\n",
       "      <td>Petrol</td>\n",
       "      <td>1.8</td>\n",
       "      <td>54317</td>\n",
       "      <td>4.0</td>\n",
       "      <td>Automatic</td>\n",
       "      <td>Front</td>\n",
       "      <td>Left wheel</td>\n",
       "      <td>White</td>\n",
       "      <td>4</td>\n",
       "      <td>7</td>\n",
       "    </tr>\n",
       "  </tbody>\n",
       "</table>\n",
       "</div>"
      ],
      "text/plain": [
       "    Price  Levy Manufacturer     Model  Prod. year   Category  \\\n",
       "2    8467     0        HONDA       FIT        2006  Hatchback   \n",
       "3    3607   862         FORD    Escape        2011       Jeep   \n",
       "4   11726   446        HONDA       FIT        2014  Hatchback   \n",
       "5   39493   891      HYUNDAI  Santa FE        2016       Jeep   \n",
       "6    1803   761       TOYOTA     Prius        2010  Hatchback   \n",
       "7     549   751      HYUNDAI    Sonata        2013      Sedan   \n",
       "8    1098   394       TOYOTA     Camry        2014      Sedan   \n",
       "15    549  1079       TOYOTA       CHR        2018       Jeep   \n",
       "16   7683   810      HYUNDAI   Elantra        2016      Sedan   \n",
       "17  28382   810      HYUNDAI   Elantra        2016      Sedan   \n",
       "\n",
       "   Leather interior Fuel type  Engine volume  Mileage  Cylinders  \\\n",
       "2                No    Petrol            1.3  200000         4.0   \n",
       "3               Yes    Hybrid            2.5  168966         4.0   \n",
       "4               Yes    Petrol            1.3   91901         4.0   \n",
       "5               Yes    Diesel            2.0  160931         4.0   \n",
       "6               Yes    Hybrid            1.8  258909         4.0   \n",
       "7               Yes    Petrol            2.4  216118         4.0   \n",
       "8               Yes    Hybrid            2.5  398069         4.0   \n",
       "15              Yes    Petrol            2.0   74146         4.0   \n",
       "16              Yes    Petrol            1.8  121840         4.0   \n",
       "17              Yes    Petrol            1.8   54317         4.0   \n",
       "\n",
       "   Gear box type Drive wheels             Wheel   Color  Airbags  Age  \n",
       "2       Variator        Front  Right-hand drive   Black        2   17  \n",
       "3      Automatic          4x4        Left wheel   White        0   12  \n",
       "4      Automatic        Front        Left wheel  Silver        4    9  \n",
       "5      Automatic        Front        Left wheel   White        4    7  \n",
       "6      Automatic        Front        Left wheel   White       12   13  \n",
       "7      Automatic        Front        Left wheel    Grey       12   10  \n",
       "8      Automatic        Front        Left wheel   Black       12    9  \n",
       "15     Automatic        Front        Left wheel   White       12    5  \n",
       "16     Automatic        Front        Left wheel    Blue       12    7  \n",
       "17     Automatic        Front        Left wheel   White        4    7  "
      ]
     },
     "execution_count": 16,
     "metadata": {},
     "output_type": "execute_result"
    }
   ],
   "source": [
    "car_df[\"Levy\"]=car_df[\"Levy\"].replace('-',0)\n",
    "car_df.head(10)"
   ]
  },
  {
   "cell_type": "code",
   "execution_count": 17,
   "id": "3eff08e0",
   "metadata": {},
   "outputs": [
    {
     "data": {
      "image/png": "[encoded data removed]",
      "text/plain": [
       "<Figure size 1080x216 with 2 Axes>"
      ]
     },
     "metadata": {
      "needs_background": "light"
     },
     "output_type": "display_data"
    }
   ],
   "source": [
    "original_data = np.random.exponential(size=1000)\n",
    "scaled_data = minmax_scaling(original_data, columns=[0])\n",
    "fig, ax = plt.subplots(1, 2, figsize=(15, 3))\n",
    "sns.histplot(original_data, ax=ax[0], kde=True, legend=False)\n",
    "ax[0].set_title(\"Original Data\")\n",
    "sns.histplot(scaled_data, ax=ax[1], kde=True, legend=False)\n",
    "ax[1].set_title(\"Scaled data\")\n",
    "plt.show()"
   ]
  },
  {
   "cell_type": "code",
   "execution_count": 18,
   "id": "04b7fc62",
   "metadata": {},
   "outputs": [
    {
     "data": {
      "image/png": "[encoded data removed]",
      "text/plain": [
       "<Figure size 1080x216 with 2 Axes>"
      ]
     },
     "metadata": {
      "needs_background": "light"
     },
     "output_type": "display_data"
    }
   ],
   "source": [
    "original_data = np.random.exponential(size=1000)\n",
    "scaled_data = minmax_scaling(original_data, columns=[0])\n",
    "fig, ax = plt.subplots(1, 2, figsize=(15, 3))\n",
    "sns.histplot(original_data, ax=ax[0], kde=True, legend=False)\n",
    "ax[0].set_title(\"Original Data\")\n",
    "sns.histplot(scaled_data, ax=ax[1], kde=True, legend=False)\n",
    "ax[1].set_title(\"Scaled data\")\n",
    "plt.show()"
   ]
  },
  {
   "cell_type": "code",
   "execution_count": 19,
   "id": "b499a821",
   "metadata": {},
   "outputs": [],
   "source": [
    "\n",
    "# correlation_matrix = car_df.corr()                    # Creating a correlation matrix to help us understand more informations about the data \n",
    "\n",
    "# fig, ax = plt.subplots(figsize=(15, 10))\n",
    "\n",
    "# sns.heatmap(correlation_matrix, annot=True, cmap='coolwarm', linewidths=0.0,ax=ax,fmt='.3f') # use Seaborn library for creating a heatmap\n",
    "\n",
    "# # in this step i will put title and xlabel and ylabel to the heatmap\n",
    "# plt.title('Cars Correlation Heatmap')\n",
    "# plt.xlabel(' Columns Name ')\n",
    "# plt.ylabel(' Columns Name ')\n",
    "\n",
    "# plt.show()"
   ]
  },
  {
   "cell_type": "code",
   "execution_count": 20,
   "id": "00c33184",
   "metadata": {},
   "outputs": [],
   "source": [
    "\n",
    "car_df.dropna(inplace=True)  # Handling missing values if it exists\n",
    "\n",
    "car_sorted_by_price = car_df.sort_values(by=\"Price\", ascending=True)\n",
    "car_sorted_by_price = car_sorted_by_price.set_index(\"Category\")\n",
    "\n",
    "\n",
    "car_sorted_by_price_desc = car_df.sort_values(by=\"Price\", ascending=False)\n",
    "car_sorted_by_price_desc = car_sorted_by_price_desc.set_index(\"Category\")\n",
    "\n",
    "\n",
    "car_sorted_by_age = car_df.sort_values(by=\"Age\", ascending=True)\n",
    "car_sorted_by_age = car_sorted_by_age.set_index(\"Manufacturer\")\n",
    "\n",
    "\n",
    "car_sorted_by_age_desc = car_df.sort_values(by=\"Age\", ascending=False)\n",
    "car_sorted_by_age_desc = car_sorted_by_age_desc.set_index(\"Manufacturer\")\n",
    "\n"
   ]
  },
  {
   "cell_type": "code",
   "execution_count": 21,
   "id": "ee6a7d19",
   "metadata": {},
   "outputs": [
    {
     "data": {
      "image/png": "[encoded data removed]",
      "text/plain": [
       "<Figure size 1080x720 with 2 Axes>"
      ]
     },
     "metadata": {
      "needs_background": "light"
     },
     "output_type": "display_data"
    },
    {
     "data": {
      "text/plain": [
       "<Figure size 720x480 with 0 Axes>"
      ]
     },
     "metadata": {},
     "output_type": "display_data"
    }
   ],
   "source": [
    "fig, ax = plt.subplots(figsize=(15, 10))\n",
    "plt.figure(dpi=120)\n",
    "sns.heatmap(car_df.isna(),ax=ax)\n",
    "plt.show()\n",
    "#there is no null values"
   ]
  },
  {
   "cell_type": "code",
   "execution_count": 22,
   "id": "38e58db3",
   "metadata": {},
   "outputs": [
    {
     "data": {
      "text/html": [
       "<div>\n",
       "<style scoped>\n",
       "    .dataframe tbody tr th:only-of-type {\n",
       "        vertical-align: middle;\n",
       "    }\n",
       "\n",
       "    .dataframe tbody tr th {\n",
       "        vertical-align: top;\n",
       "    }\n",
       "\n",
       "    .dataframe thead th {\n",
       "        text-align: right;\n",
       "    }\n",
       "</style>\n",
       "<table border=\"1\" class=\"dataframe\">\n",
       "  <thead>\n",
       "    <tr style=\"text-align: right;\">\n",
       "      <th></th>\n",
       "      <th>Price</th>\n",
       "      <th>Levy</th>\n",
       "      <th>Manufacturer</th>\n",
       "      <th>Model</th>\n",
       "      <th>Prod. year</th>\n",
       "      <th>Category</th>\n",
       "      <th>Leather interior</th>\n",
       "      <th>Fuel type</th>\n",
       "      <th>Engine volume</th>\n",
       "      <th>Mileage</th>\n",
       "      <th>Cylinders</th>\n",
       "      <th>Gear box type</th>\n",
       "      <th>Drive wheels</th>\n",
       "      <th>Wheel</th>\n",
       "      <th>Color</th>\n",
       "      <th>Airbags</th>\n",
       "      <th>Age</th>\n",
       "    </tr>\n",
       "  </thead>\n",
       "  <tbody>\n",
       "    <tr>\n",
       "      <th>2</th>\n",
       "      <td>8467</td>\n",
       "      <td>0</td>\n",
       "      <td>HONDA</td>\n",
       "      <td>FIT</td>\n",
       "      <td>2006</td>\n",
       "      <td>Hatchback</td>\n",
       "      <td>No</td>\n",
       "      <td>Petrol</td>\n",
       "      <td>1.3</td>\n",
       "      <td>200000</td>\n",
       "      <td>4.0</td>\n",
       "      <td>Variator</td>\n",
       "      <td>Front</td>\n",
       "      <td>Right-hand drive</td>\n",
       "      <td>Black</td>\n",
       "      <td>2</td>\n",
       "      <td>17</td>\n",
       "    </tr>\n",
       "    <tr>\n",
       "      <th>3</th>\n",
       "      <td>3607</td>\n",
       "      <td>862</td>\n",
       "      <td>FORD</td>\n",
       "      <td>Escape</td>\n",
       "      <td>2011</td>\n",
       "      <td>Jeep</td>\n",
       "      <td>Yes</td>\n",
       "      <td>Hybrid</td>\n",
       "      <td>2.5</td>\n",
       "      <td>168966</td>\n",
       "      <td>4.0</td>\n",
       "      <td>Automatic</td>\n",
       "      <td>4x4</td>\n",
       "      <td>Left wheel</td>\n",
       "      <td>White</td>\n",
       "      <td>0</td>\n",
       "      <td>12</td>\n",
       "    </tr>\n",
       "    <tr>\n",
       "      <th>4</th>\n",
       "      <td>11726</td>\n",
       "      <td>446</td>\n",
       "      <td>HONDA</td>\n",
       "      <td>FIT</td>\n",
       "      <td>2014</td>\n",
       "      <td>Hatchback</td>\n",
       "      <td>Yes</td>\n",
       "      <td>Petrol</td>\n",
       "      <td>1.3</td>\n",
       "      <td>91901</td>\n",
       "      <td>4.0</td>\n",
       "      <td>Automatic</td>\n",
       "      <td>Front</td>\n",
       "      <td>Left wheel</td>\n",
       "      <td>Silver</td>\n",
       "      <td>4</td>\n",
       "      <td>9</td>\n",
       "    </tr>\n",
       "    <tr>\n",
       "      <th>5</th>\n",
       "      <td>39493</td>\n",
       "      <td>891</td>\n",
       "      <td>HYUNDAI</td>\n",
       "      <td>Santa FE</td>\n",
       "      <td>2016</td>\n",
       "      <td>Jeep</td>\n",
       "      <td>Yes</td>\n",
       "      <td>Diesel</td>\n",
       "      <td>2.0</td>\n",
       "      <td>160931</td>\n",
       "      <td>4.0</td>\n",
       "      <td>Automatic</td>\n",
       "      <td>Front</td>\n",
       "      <td>Left wheel</td>\n",
       "      <td>White</td>\n",
       "      <td>4</td>\n",
       "      <td>7</td>\n",
       "    </tr>\n",
       "    <tr>\n",
       "      <th>6</th>\n",
       "      <td>1803</td>\n",
       "      <td>761</td>\n",
       "      <td>TOYOTA</td>\n",
       "      <td>Prius</td>\n",
       "      <td>2010</td>\n",
       "      <td>Hatchback</td>\n",
       "      <td>Yes</td>\n",
       "      <td>Hybrid</td>\n",
       "      <td>1.8</td>\n",
       "      <td>258909</td>\n",
       "      <td>4.0</td>\n",
       "      <td>Automatic</td>\n",
       "      <td>Front</td>\n",
       "      <td>Left wheel</td>\n",
       "      <td>White</td>\n",
       "      <td>12</td>\n",
       "      <td>13</td>\n",
       "    </tr>\n",
       "  </tbody>\n",
       "</table>\n",
       "</div>"
      ],
      "text/plain": [
       "   Price Levy Manufacturer     Model  Prod. year   Category Leather interior  \\\n",
       "2   8467    0        HONDA       FIT        2006  Hatchback               No   \n",
       "3   3607  862         FORD    Escape        2011       Jeep              Yes   \n",
       "4  11726  446        HONDA       FIT        2014  Hatchback              Yes   \n",
       "5  39493  891      HYUNDAI  Santa FE        2016       Jeep              Yes   \n",
       "6   1803  761       TOYOTA     Prius        2010  Hatchback              Yes   \n",
       "\n",
       "  Fuel type  Engine volume  Mileage  Cylinders Gear box type Drive wheels  \\\n",
       "2    Petrol            1.3  200000         4.0      Variator        Front   \n",
       "3    Hybrid            2.5  168966         4.0     Automatic          4x4   \n",
       "4    Petrol            1.3   91901         4.0     Automatic        Front   \n",
       "5    Diesel            2.0  160931         4.0     Automatic        Front   \n",
       "6    Hybrid            1.8  258909         4.0     Automatic        Front   \n",
       "\n",
       "              Wheel   Color  Airbags  Age  \n",
       "2  Right-hand drive   Black        2   17  \n",
       "3        Left wheel   White        0   12  \n",
       "4        Left wheel  Silver        4    9  \n",
       "5        Left wheel   White        4    7  \n",
       "6        Left wheel   White       12   13  "
      ]
     },
     "execution_count": 22,
     "metadata": {},
     "output_type": "execute_result"
    }
   ],
   "source": [
    "car_df.head()"
   ]
  },
  {
   "cell_type": "markdown",
   "id": "c29ad8a9",
   "metadata": {},
   "source": [
    "<h2 style=\"color: teal; font-family: 'Arial', sans-serif; text-align: center; border-bottom: 2px solid red; padding-bottom: 5px; background-color: #f8f8f8; margin: 10px; border-radius: 8px; box-shadow: 0 2px 4px rgba(0, 0, 0, 0.1);\">Pie Charts</h2>\n"
   ]
  },
  {
   "cell_type": "markdown",
   "id": "d7db6a88",
   "metadata": {},
   "source": [
    "\n",
    "\n",
    "\n",
    "***This pie chart delineates the proportion of cars equipped with leather interiors juxtaposed against those lacking this feature. The presence of leather upholstery is often indicative of higher-end vehicles, thereby providing insights into the prevalence of luxury amenities within the automotive market. This visual representation serves to elucidate the distribution of a key quality indicator, influencing perceptions of car interior standards.***\n",
    "\n"
   ]
  },
  {
   "cell_type": "code",
   "execution_count": 23,
   "id": "63bd4925",
   "metadata": {},
   "outputs": [
    {
     "data": {
      "image/png": "[encoded data removed]",
      "text/plain": [
       "<Figure size 1080x720 with 1 Axes>"
      ]
     },
     "metadata": {},
     "output_type": "display_data"
    }
   ],
   "source": [
    "car_Leather = car_df['Leather interior'].value_counts()\n",
    "\n",
    "explode = (0.1, 0)  \n",
    "\n",
    "plt.figure(figsize=(15, 10))\n",
    "plt.pie(car_Leather, explode=explode, labels=car_Leather.index,autopct='%1.1f%%',textprops={'fontsize': 22, 'color': 'darkgreen'})\n",
    "\n",
    "plt.title(\"Has Leather interior?\",color='teal',fontsize='25')\n",
    "\n",
    "legend =plt.legend(car_Leather.index, title=\"Cars Leather Interior\", loc=\"upper right\", fontsize='18', shadow=True, bbox_to_anchor=(1.3, 1),edgecolor='black')\n",
    "\n",
    "legend.set_title(\"Leather Interior\", prop={'size': 14, 'weight': 'bold'})\n",
    "legend.get_frame().set_linewidth(1.5)\n",
    "legend.get_frame().set_edgecolor('black')\n",
    "\n",
    "plt.show()\n"
   ]
  },
  {
   "cell_type": "markdown",
   "id": "54109926",
   "metadata": {},
   "source": [
    "\n",
    "\n",
    "***This diagram illustrates the prevalence of right-hand and left-hand driving seat configurations in cars across different countries, reflecting variations in traffic regulations. For instance, countries like Egypt typically feature left-hand driving seats, while others, including some in the top portion of America, adhere to a right-hand driving configuration. The visual representation serves to underscore the diverse global standards in vehicular ergonomics and road traffic conventions.***\n",
    "\n",
    "\n",
    "\n",
    "\n",
    "\n",
    "\n",
    "\n",
    "\n",
    "\n",
    "\n",
    "\n",
    "\n"
   ]
  },
  {
   "cell_type": "code",
   "execution_count": 24,
   "id": "163006c4",
   "metadata": {},
   "outputs": [
    {
     "data": {
      "image/png": "[encoded data removed]",
      "text/plain": [
       "<Figure size 1080x720 with 1 Axes>"
      ]
     },
     "metadata": {},
     "output_type": "display_data"
    }
   ],
   "source": [
    "\n",
    "\n",
    "car_Wheel = car_df['Wheel'].value_counts()\n",
    "\n",
    "explode = (0.2, 0)  \n",
    "\n",
    "plt.figure(figsize=(15, 10))\n",
    "plt.pie(car_Wheel, explode=explode, labels=car_Wheel.index,autopct='%1.1f%%',textprops={'fontsize': 17, 'color': 'darkblue'},shadow=True)\n",
    "\n",
    "plt.title(\"Cars Left wheel or Right-hand?\",color='teal',fontsize='25')\n",
    "plt.yticks(fontsize='30')\n",
    "legend =plt.legend(car_Wheel.index, title=\"Cars Wheel\", loc=\"upper right\", fontsize='18', shadow=True, bbox_to_anchor=(1.5, 1),edgecolor='black')\n",
    "\n",
    "legend.set_title(\"Cars Wheel\", prop={'size': 14, 'weight': 'bold'})\n",
    "legend.get_frame().set_linewidth(1.5)\n",
    "legend.get_frame().set_edgecolor('black')\n",
    "\n",
    "plt.show()"
   ]
  },
  {
   "cell_type": "markdown",
   "id": "f9623d4f",
   "metadata": {},
   "source": [
    "***The pie plot visualizes the distribution of car types based on their 'Gear box type.' This visualization is essential as it provides a clear representation of the proportion of cars with different transmission systems (Automatic, Manual, Tiptronic, Variator ).It allows quick insights into the prevalence of each gear type, aiding in understanding market preferences and informing automotive-related decisions.***"
   ]
  },
  {
   "cell_type": "code",
   "execution_count": 25,
   "id": "ddb378ff",
   "metadata": {},
   "outputs": [
    {
     "data": {
      "image/png": "[encoded data removed]",
      "text/plain": [
       "<Figure size 1080x720 with 1 Axes>"
      ]
     },
     "metadata": {},
     "output_type": "display_data"
    }
   ],
   "source": [
    "Drivewheels =pd.DataFrame(car_df['Drive wheels'].value_counts()) \n",
    "explode = (0.2, 0.2) + (0, ) * (len(Drivewheels) - 2)\n",
    "\n",
    "plot =Drivewheels.plot.pie(y='Drive wheels', explode=explode,figsize=(15,10), autopct='%1.2f%% ' ,labels=None , pctdistance=1.2 ,textprops={'fontsize': 20, 'color': 'teal'})\n",
    "\n",
    "plt.title('cars Drive Wheels', fontsize=25,color='darkgreen',pad=30)\n",
    "plt.ylabel('Drive wheels', fontsize=22,color='darkgreen',labelpad=65)\n",
    "legend =plt.legend(Drivewheels.index, title=\"Drive Wheel\", loc=\"upper right\", fontsize='18', shadow=True, bbox_to_anchor=(1.5, 1),edgecolor='black')\n",
    "\n",
    "legend.set_title(\"Drivewheels\", prop={'size': 14, 'weight': 'bold'})\n",
    "legend.get_frame().set_linewidth(1.5)\n",
    "legend.get_frame().set_edgecolor('black')\n",
    "\n",
    "\n",
    "plt.show()"
   ]
  },
  {
   "cell_type": "markdown",
   "id": "66366946",
   "metadata": {},
   "source": [
    "***In this pie chart, the distribution of cars by fuel type is depicted, illustrating the proportion of each fuel type among the dataset. This visualization is crucial for understanding the diversity of fuel options in the automotive industry, providing insights into the popularity of different fuel types and their environmental impact. By showcasing the prevalence of each fuel category, stakeholders can make informed decisions about sustainable energy solutions and regulatory initiatives.***"
   ]
  },
  {
   "cell_type": "code",
   "execution_count": 26,
   "id": "2455b28b",
   "metadata": {},
   "outputs": [
    {
     "data": {
      "image/png": "[encoded data removed]",
      "text/plain": [
       "<Figure size 1080x720 with 1 Axes>"
      ]
     },
     "metadata": {},
     "output_type": "display_data"
    }
   ],
   "source": [
    "fuel = pd.DataFrame(car_df['Fuel type'].value_counts())\n",
    "\n",
    "fuel = fuel.sort_values(by='Fuel type')\n",
    "\n",
    "explode = (0.3, 0.2,0.1) + (0, ) * (len(fuel) - 3)\n",
    "\n",
    "custom_colors = ['skyblue', 'lightcoral', 'gold', 'teal']\n",
    "\n",
    "\n",
    "plot = fuel.plot.pie(y='Fuel type', figsize=(15, 10), autopct='%1.1f%%', labels=None, pctdistance=1.2, \n",
    "colors=custom_colors, explode=explode, startangle=90,textprops={'fontsize': 16, 'color': 'teal'})\n",
    "\n",
    "plt.xlabel('Fuel Types', fontsize=22, color='teal')\n",
    "plt.ylabel('Percentage', fontsize=22, color='teal')\n",
    "\n",
    "legend = plt.legend(fuel.index, title=\"Fuel Type\", loc=\"upper right\", fontsize='18', \n",
    "                    shadow=True, bbox_to_anchor=(1.5, 1), edgecolor='black')\n",
    "\n",
    "legend.set_title(\"Fuel Type\", prop={'size': 14, 'weight': 'bold'})\n",
    "legend.get_frame().set_linewidth(1.5)\n",
    "legend.get_frame().set_edgecolor('black')\n",
    "\n",
    "plt.title(\"Distribution of Cars by Fuel Type\", fontsize=22, pad=100,color='darkgreen')\n",
    "\n",
    "plt.show()"
   ]
  },
  {
   "cell_type": "markdown",
   "id": "2364e46d",
   "metadata": {},
   "source": [
    "***In this pie chart illustrating drive wheel distribution (front, rear, 4 by 4 ), we gain insights into the diversity of car configurations. This visualization is crucial for understanding the prevalence of different drive systems in the dataset, providing valuable information for car enthusiasts, manufacturers, and analysts interested in market trends and consumer preferences. The clear representation allows for a quick and intuitive grasp of the distribution, aiding decision-making in the automotive industry.***"
   ]
  },
  {
   "cell_type": "code",
   "execution_count": 27,
   "id": "cfd6a50b",
   "metadata": {},
   "outputs": [
    {
     "data": {
      "image/png": "[encoded data removed]",
      "text/plain": [
       "<Figure size 1080x720 with 1 Axes>"
      ]
     },
     "metadata": {},
     "output_type": "display_data"
    }
   ],
   "source": [
    "Gearboxtype =pd.DataFrame(car_df['Gear box type'].value_counts()) \n",
    "\n",
    "Gearboxtype = Gearboxtype.sort_values(by='Gear box type')\n",
    "\n",
    "explode = (0.3,0.2) + (0, ) * (len(Gearboxtype) - 2)\n",
    "\n",
    "custom_colors = ['skyblue', 'lightcoral', 'gold', 'teal']\n",
    "\n",
    "\n",
    "plot = Gearboxtype.plot.pie(y='Gear box type', figsize=(15, 10), autopct='%1.1f%%', labels=None, pctdistance=1.2, \n",
    "colors=custom_colors, explode=explode, startangle=90,textprops={'fontsize': 16, 'color': 'teal'})\n",
    "\n",
    "plt.xlabel('Gear box type ', fontsize=22, color='teal')\n",
    "plt.ylabel('Percentage', fontsize=22, color='teal')\n",
    "\n",
    "legend = plt.legend(Gearboxtype.index, title=\"Fuel Type\", loc=\"upper right\", fontsize='18', \n",
    "                    shadow=True, bbox_to_anchor=(1.5, 1), edgecolor='black')\n",
    "\n",
    "legend.set_title(\"Gear box type\", prop={'size': 14, 'weight': 'bold'})\n",
    "legend.get_frame().set_linewidth(1.5)\n",
    "legend.get_frame().set_edgecolor('black')\n",
    "\n",
    "plt.title(\"Distribution of Cars by Gear box type \", fontsize=22, pad=100,color='darkgreen')\n",
    "\n",
    "plt.show()"
   ]
  },
  {
   "cell_type": "code",
   "execution_count": null,
   "id": "57581263",
   "metadata": {},
   "outputs": [],
   "source": []
  },
  {
   "cell_type": "code",
   "execution_count": null,
   "id": "3c0c7bbf",
   "metadata": {},
   "outputs": [],
   "source": []
  },
  {
   "cell_type": "code",
   "execution_count": null,
   "id": "8b76a4cf",
   "metadata": {},
   "outputs": [],
   "source": []
  },
  {
   "cell_type": "code",
   "execution_count": null,
   "id": "7122fc62",
   "metadata": {},
   "outputs": [],
   "source": []
  },
  {
   "cell_type": "code",
   "execution_count": null,
   "id": "2fea4017",
   "metadata": {},
   "outputs": [],
   "source": []
  },
  {
   "cell_type": "code",
   "execution_count": null,
   "id": "aebdfacd",
   "metadata": {},
   "outputs": [],
   "source": []
  },
  {
   "cell_type": "code",
   "execution_count": null,
   "id": "1c6ec681",
   "metadata": {},
   "outputs": [],
   "source": []
  },
  {
   "cell_type": "code",
   "execution_count": null,
   "id": "d88854bd",
   "metadata": {},
   "outputs": [],
   "source": []
  },
  {
   "cell_type": "code",
   "execution_count": null,
   "id": "9f8f2780",
   "metadata": {},
   "outputs": [],
   "source": []
  },
  {
   "cell_type": "code",
   "execution_count": null,
   "id": "8b69a726",
   "metadata": {},
   "outputs": [],
   "source": []
  },
  {
   "cell_type": "code",
   "execution_count": null,
   "id": "1e544b90",
   "metadata": {},
   "outputs": [],
   "source": []
  },
  {
   "cell_type": "code",
   "execution_count": null,
   "id": "f6898a52",
   "metadata": {},
   "outputs": [],
   "source": []
  },
  {
   "cell_type": "code",
   "execution_count": null,
   "id": "7014de80",
   "metadata": {},
   "outputs": [],
   "source": []
  },
  {
   "cell_type": "code",
   "execution_count": null,
   "id": "93215623",
   "metadata": {},
   "outputs": [],
   "source": []
  },
  {
   "cell_type": "code",
   "execution_count": null,
   "id": "1ff1ee5f",
   "metadata": {},
   "outputs": [],
   "source": []
  },
  {
   "cell_type": "markdown",
   "id": "5ff5a206",
   "metadata": {},
   "source": [
    "<h2 style=\"color: teal; font-family: 'Arial', sans-serif; text-align: center; border-bottom: 2px solid red; padding-bottom: 5px; background-color: #f8f8f8; margin: 10px; border-radius: 8px; box-shadow: 0 2px 4px rgba(0, 0, 0, 0.1);\">convert the dataset into numeric  </h2>\n",
    "\n",
    " \n",
    " \n",
    " \n",
    " ***we will excute this step after visualization*** "
   ]
  },
  {
   "cell_type": "code",
   "execution_count": 26,
   "id": "1762e010",
   "metadata": {},
   "outputs": [],
   "source": [
    "# dobject=car_df.select_dtypes(include='object')\n",
    "# dnumeric=car_df.select_dtypes(exclude='object')\n",
    "\n",
    "\n",
    "# la=LabelEncoder()\n",
    "\n",
    "\n",
    "# for i in range(0,dobject.shape[1]):\n",
    "#      dobject.iloc[:,i]=la.fit_transform(dobject.iloc[:,i])\n",
    "        \n",
    "# car_df=pd.concat([dobject,dnumeric],axis=1)\n",
    "\n",
    "\n",
    "\n",
    "# #car_df_numeric=car_df.select_dtypes(exclude='object')\n",
    "# for col in car_df_numeric:\n",
    "#     q1=car_df_numeric[col].quantile(0.25)\n",
    "#     q3=car_df_numeric[col].quantile(0.75)\n",
    "#     iqr=q3-q1\n",
    "#     low=q1-1.5*iqr\n",
    "#     high=q3+1.5*iqr\n",
    "#     outlier=((car_df_numeric[col]>high)|(car_df_numeric[col]<low)).sum()\n",
    "#     total=car_df_numeric[col].shape[0]\n",
    "#     print(f\"Total Outliers in {col} are :{outlier}-{round(100*(outlier)/total,2)}%\")\n",
    "#     if outlier >0:\n",
    "#         car_df_numeric=car_df_numeric.loc[(car_df_numeric[col]<=high) & (car_df_numeric[col]>=low)]"
   ]
  },
  {
   "cell_type": "markdown",
   "id": "4d608b6b",
   "metadata": {},
   "source": [
    "<h2 style=\"color: teal; font-family: 'Arial', sans-serif; text-align: center; border-bottom: 2px solid red; padding-bottom: 5px; background-color: #f8f8f8; margin: 10px; border-radius: 8px; box-shadow: 0 2px 4px rgba(0, 0, 0, 0.1);\">Model</h2>\n",
    "\n",
    "***after visulaization*** "
   ]
  },
  {
   "cell_type": "code",
   "execution_count": null,
   "id": "12328924",
   "metadata": {},
   "outputs": [],
   "source": [
    "x = car_df.drop('Price',axis=1)   \n",
    "y = car_df['Price']"
   ]
  },
  {
   "cell_type": "code",
   "execution_count": null,
   "id": "638197e2",
   "metadata": {},
   "outputs": [],
   "source": [
    "x_train,x_test,y_train,y_test = train_test_split (x,y,test_size=0.2,random_state=42)"
   ]
  },
  {
   "cell_type": "code",
   "execution_count": null,
   "id": "daf7672f",
   "metadata": {},
   "outputs": [],
   "source": [
    "Algorithm= ['LinearRegression','DecisionTreeRegressor','RandomForestRegressor','GradientBoostingRegressor','XGBRegressor','SVR']\n",
    "R2=[]\n",
    "RMSE=[]"
   ]
  },
  {
   "cell_type": "code",
   "execution_count": null,
   "id": "9897b83e",
   "metadata": {},
   "outputs": [],
   "source": [
    "def models (model): \n",
    "    model.fit(x_train,y_train)\n",
    "    pre=model.predict(x_test)\n",
    "    r2=r2_score(y_test,pre)\n",
    "    rmse=np.sqrt(mean_squared_error(y_test,pre))\n",
    "    R2.append(r2)\n",
    "    RMSE.append(rmse)\n",
    "    score=model.score(x_test,y_test)\n",
    "    print(f\"The Score of Model is :{score}\")\n",
    "    "
   ]
  },
  {
   "cell_type": "code",
   "execution_count": null,
   "id": "bf863db5",
   "metadata": {},
   "outputs": [],
   "source": [
    "model1 = LinearRegression()\n",
    "model2 = DecisionTreeRegressor ()\n",
    "model3 = RandomForestRegressor ()\n",
    "model4 = GradientBoostingRegressor ()\n",
    "model5 = XGBRegressor ()\n",
    "model6 = SVR ()"
   ]
  },
  {
   "cell_type": "code",
   "execution_count": null,
   "id": "95887bca",
   "metadata": {},
   "outputs": [],
   "source": [
    "models(model1)\n",
    "models(model2)\n",
    "models(model3)\n",
    "models(model4)\n",
    "models(model5)\n",
    "models(model6)"
   ]
  },
  {
   "cell_type": "code",
   "execution_count": null,
   "id": "0819e217",
   "metadata": {},
   "outputs": [],
   "source": [
    "df = pd.DataFrame({'Algorithm':Algorithm,'R2_Score':R2,'RMSE':RMSE})\n",
    "df"
   ]
  },
  {
   "cell_type": "code",
   "execution_count": null,
   "id": "e1e3c050",
   "metadata": {},
   "outputs": [],
   "source": [
    "fig,ax = plt.subplots(figsize=(20,5))\n",
    "plt.plot(df.Algorithm,df.R2_Score,label='R2_Score')\n",
    "plt.legend()\n",
    "plt.show()"
   ]
  },
  {
   "cell_type": "code",
   "execution_count": null,
   "id": "eb3aad9f",
   "metadata": {},
   "outputs": [],
   "source": [
    "fig,ax = plt.subplots(figsize=(20,5))\n",
    "plt.plot(df.Algorithm,df.RMSE,label='RMES',color='red',marker='o')\n",
    "plt.legend()\n",
    "plt.show()"
   ]
  },
  {
   "cell_type": "markdown",
   "id": "3b7686a9",
   "metadata": {},
   "source": [
    "<h2 style=\"color: teal; font-family: 'Arial', sans-serif; text-align: center; border-bottom: 2px solid red; padding-bottom: 5px; background-color: #f8f8f8; margin: 10px; border-radius: 8px; box-shadow: 0 2px 4px rgba(0, 0, 0, 0.1);\">Box plot</h2>\n"
   ]
  },
  {
   "cell_type": "markdown",
   "id": "de9d6fa0",
   "metadata": {},
   "source": [
    "***will excute this code after visulization*** "
   ]
  },
  {
   "cell_type": "code",
   "execution_count": null,
   "id": "e30e6fc9",
   "metadata": {},
   "outputs": [],
   "source": [
    "# # this code after transform the dataset into numeric \n",
    "# plt.figure(figsize=(15, 10))\n",
    "# plt.boxplot(car_df['Levy'], vert=True, patch_artist=True) # Age , Price\n",
    "\n",
    "# plt.title('Boxplot of Levy', fontsize=16, fontweight='bold', color='navy',pad='30')  # Age , Price\n",
    "# plt.xlabel('Production Levy', fontsize=14, fontweight='bold', color='darkgreen',labelpad=30) # Age , Price\n",
    "# plt.xlabel('Levy', fontsize=16, fontweight='bold', color='teal',labelpad=30)  # Age , Price\n",
    "# plt.yticks(color='teal',fontsize='16',rotation=45)\n",
    "\n",
    "# line_color = '#eaeaf2'       \n",
    "# plt.gca().patch.set_facecolor('white')  \n",
    "# plt.gca().figure.set_facecolor(line_color) \n",
    "\n",
    "# plt.grid(axis='y', linestyle='--', alpha=0.7)            \n",
    "\n",
    "\n",
    "# plt.show()"
   ]
  }
 ],
 "metadata": {
  "kernelspec": {
   "display_name": "Python 3 (ipykernel)",
   "language": "python",
   "name": "python3"
  },
  "language_info": {
   "codemirror_mode": {
    "name": "ipython",
    "version": 3
   },
   "file_extension": ".py",
   "mimetype": "text/x-python",
   "name": "python",
   "nbconvert_exporter": "python",
   "pygments_lexer": "ipython3",
   "version": "3.9.12"
  }
 },
 "nbformat": 4,
 "nbformat_minor": 5
}
